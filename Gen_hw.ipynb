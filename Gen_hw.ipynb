{
  "cells": [
    {
      "cell_type": "markdown",
      "id": "c53f1955",
      "metadata": {
        "id": "c53f1955"
      },
      "source": [
        "Доработать класс FlatIterator в коде ниже. Должен получиться итератор, который принимает список\n",
        "списков и возвращает их плоское представление, т. е. последовательность, состоящую из вложенных элементов. Функция test в коде ниже также должна отработать без ошибок"
      ]
    },
    {
      "cell_type": "code",
      "source": [
        "import itertools\n",
        "\n",
        "class FlatIterator:\n",
        "\n",
        "    def __init__(self, list_of_list):\n",
        "        self.list_of_list = list_of_list\n",
        "\n",
        "    def __iter__(self):\n",
        "        self.cursor = -1\n",
        "        return self\n",
        "\n",
        "    def __next__(self):\n",
        "        self.cursor +=1\n",
        "        item = list(itertools.chain(*self.list_of_list)) # превращаем все в один массив\n",
        "        if self.cursor == len(item): # ограничение на работу метода Next\n",
        "          raise StopIteration\n",
        "\n",
        "\n",
        "        return item[self.cursor]"
      ],
      "metadata": {
        "id": "mJ2XBGgG3as1"
      },
      "id": "mJ2XBGgG3as1",
      "execution_count": 61,
      "outputs": []
    },
    {
      "cell_type": "code",
      "source": [
        "def test_1():\n",
        "\n",
        "    list_of_lists_1 = [\n",
        "        ['a', 'b', 'c',],\n",
        "        ['d', 'e', 'f', 'h', False],\n",
        "        [1, 2, None]\n",
        "    ]\n",
        "\n",
        "    for flat_iterator_item, check_item in zip(\n",
        "            FlatIterator(list_of_lists_1),\n",
        "            ['a', 'b', 'c', 'd', 'e', 'f', 'h', False, 1, 2, None]\n",
        "    ):\n",
        "\n",
        "        assert flat_iterator_item == check_item\n",
        "\n",
        "    assert list(FlatIterator(list_of_lists_1)) == ['a', 'b', 'c', 'd', 'e', 'f', 'h', False, 1, 2, None]\n",
        "\n",
        "\n",
        "if __name__ == '__main__':\n",
        "    test_1()"
      ],
      "metadata": {
        "id": "tFqviNYt5v1U"
      },
      "id": "tFqviNYt5v1U",
      "execution_count": 66,
      "outputs": []
    },
    {
      "cell_type": "markdown",
      "source": [
        "Доработать функцию flat_generator. Должен получиться генератор, который принимает список списков и возвращает их плоское представление. Функция test в коде ниже также должна отработать без ошибок."
      ],
      "metadata": {
        "id": "gyIugHjeCRnb"
      },
      "id": "gyIugHjeCRnb"
    },
    {
      "cell_type": "code",
      "execution_count": 73,
      "id": "0ee43376",
      "metadata": {
        "id": "0ee43376"
      },
      "outputs": [],
      "source": [
        "import types\n",
        "\n",
        "\n",
        "def flat_generator(list_of_list):\n",
        "    item = list(itertools.chain(*list_of_list))\n",
        "    yield from item\n",
        "\n",
        "\n",
        "\n",
        "def test_2():\n",
        "\n",
        "    list_of_lists_1 = [\n",
        "        ['a', 'b', 'c'],\n",
        "        ['d', 'e', 'f', 'h', False],\n",
        "        [1, 2, None]\n",
        "    ]\n",
        "\n",
        "    for flat_iterator_item, check_item in zip(\n",
        "            flat_generator(list_of_lists_1),\n",
        "            ['a', 'b', 'c', 'd', 'e', 'f', 'h', False, 1, 2, None]\n",
        "    ):\n",
        "\n",
        "        assert flat_iterator_item == check_item\n",
        "\n",
        "    assert list(flat_generator(list_of_lists_1)) == ['a', 'b', 'c', 'd', 'e', 'f', 'h', False, 1, 2, None]\n",
        "\n",
        "    assert isinstance(flat_generator(list_of_lists_1), types.GeneratorType)\n",
        "\n",
        "\n",
        "if __name__ == '__main__':\n",
        "    test_2()"
      ]
    }
  ],
  "metadata": {
    "kernelspec": {
      "display_name": "Python 3 (ipykernel)",
      "language": "python",
      "name": "python3"
    },
    "language_info": {
      "codemirror_mode": {
        "name": "ipython",
        "version": 3
      },
      "file_extension": ".py",
      "mimetype": "text/x-python",
      "name": "python",
      "nbconvert_exporter": "python",
      "pygments_lexer": "ipython3",
      "version": "3.11.5"
    },
    "colab": {
      "provenance": []
    }
  },
  "nbformat": 4,
  "nbformat_minor": 5
}